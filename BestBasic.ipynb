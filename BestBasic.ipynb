{
 "cells": [
  {
   "cell_type": "code",
   "execution_count": 1,
   "id": "4ad381c8",
   "metadata": {},
   "outputs": [
    {
     "name": "stderr",
     "output_type": "stream",
     "text": [
      "C:\\Users\\ASUS\\AppData\\Local\\Packages\\PythonSoftwareFoundation.Python.3.11_qbz5n2kfra8p0\\LocalCache\\local-packages\\Python311\\site-packages\\tqdm\\auto.py:21: TqdmWarning: IProgress not found. Please update jupyter and ipywidgets. See https://ipywidgets.readthedocs.io/en/stable/user_install.html\n",
      "  from .autonotebook import tqdm as notebook_tqdm\n"
     ]
    }
   ],
   "source": [
    "# !pip install yfinance pandas_ta stockstats transformers torch plotly\n",
    "\n",
    "import yfinance as yf\n",
    "import pandas as pd\n",
    "import numpy as np\n",
    "import matplotlib.pyplot as plt\n",
    "import plotly.graph_objs as go\n",
    "import pandas_ta as ta\n",
    "from stockstats import StockDataFrame\n",
    "# Optional (for LLM/news sentiment)\n",
    "from transformers import pipeline\n"
   ]
  },
  {
   "cell_type": "code",
   "execution_count": 2,
   "id": "ccb5aeb1",
   "metadata": {},
   "outputs": [
    {
     "name": "stderr",
     "output_type": "stream",
     "text": [
      "[*********************100%***********************]  1 of 1 completed\n"
     ]
    }
   ],
   "source": [
    "# --- User Inputs ---\n",
    "ticker_symbol = 'AAPL'  # change ticker as needed\n",
    "# Download price/volume data\n",
    "data = yf.download(ticker_symbol, period='2y', auto_adjust=True)\n",
    "info = yf.Ticker(ticker_symbol).info\n",
    "stock = yf.Ticker(ticker_symbol)\n"
   ]
  },
  {
   "cell_type": "code",
   "execution_count": 3,
   "id": "5d6fe22b",
   "metadata": {},
   "outputs": [],
   "source": [
    "# In case of MultiIndex, flatten columns\n",
    "if isinstance(data.columns, pd.MultiIndex):\n",
    "    data.columns = ['_'.join(col).strip() for col in data.columns]\n"
   ]
  },
  {
   "cell_type": "markdown",
   "id": "e4a4a1e0",
   "metadata": {},
   "source": [
    "5.1 Snapshot Table"
   ]
  },
  {
   "cell_type": "code",
   "execution_count": 4,
   "id": "9722170a",
   "metadata": {},
   "outputs": [
    {
     "data": {
      "text/html": [
       "<div>\n",
       "<style scoped>\n",
       "    .dataframe tbody tr th:only-of-type {\n",
       "        vertical-align: middle;\n",
       "    }\n",
       "\n",
       "    .dataframe tbody tr th {\n",
       "        vertical-align: top;\n",
       "    }\n",
       "\n",
       "    .dataframe thead th {\n",
       "        text-align: right;\n",
       "    }\n",
       "</style>\n",
       "<table border=\"1\" class=\"dataframe\">\n",
       "  <thead>\n",
       "    <tr style=\"text-align: right;\">\n",
       "      <th></th>\n",
       "      <th>0</th>\n",
       "    </tr>\n",
       "  </thead>\n",
       "  <tbody>\n",
       "    <tr>\n",
       "      <th>Ticker</th>\n",
       "      <td>AAPL</td>\n",
       "    </tr>\n",
       "    <tr>\n",
       "      <th>Sector</th>\n",
       "      <td>Technology</td>\n",
       "    </tr>\n",
       "    <tr>\n",
       "      <th>Industry</th>\n",
       "      <td>Consumer Electronics</td>\n",
       "    </tr>\n",
       "    <tr>\n",
       "      <th>Market Cap</th>\n",
       "      <td>3154142035968</td>\n",
       "    </tr>\n",
       "    <tr>\n",
       "      <th>P/E Ratio</th>\n",
       "      <td>32.89408</td>\n",
       "    </tr>\n",
       "    <tr>\n",
       "      <th>P/B Ratio</th>\n",
       "      <td>47.233276</td>\n",
       "    </tr>\n",
       "    <tr>\n",
       "      <th>Dividend Yield</th>\n",
       "      <td>0.51</td>\n",
       "    </tr>\n",
       "    <tr>\n",
       "      <th>Revenue (TTM)</th>\n",
       "      <td>400366010368</td>\n",
       "    </tr>\n",
       "    <tr>\n",
       "      <th>Net Income (TTM)</th>\n",
       "      <td>97294000128</td>\n",
       "    </tr>\n",
       "    <tr>\n",
       "      <th>Debt</th>\n",
       "      <td>98186002432</td>\n",
       "    </tr>\n",
       "    <tr>\n",
       "      <th>Cash</th>\n",
       "      <td>48497999872</td>\n",
       "    </tr>\n",
       "    <tr>\n",
       "      <th>ROE</th>\n",
       "      <td>1.38015</td>\n",
       "    </tr>\n",
       "  </tbody>\n",
       "</table>\n",
       "</div>"
      ],
      "text/plain": [
       "                                     0\n",
       "Ticker                            AAPL\n",
       "Sector                      Technology\n",
       "Industry          Consumer Electronics\n",
       "Market Cap               3154142035968\n",
       "P/E Ratio                     32.89408\n",
       "P/B Ratio                    47.233276\n",
       "Dividend Yield                    0.51\n",
       "Revenue (TTM)             400366010368\n",
       "Net Income (TTM)           97294000128\n",
       "Debt                       98186002432\n",
       "Cash                       48497999872\n",
       "ROE                            1.38015"
      ]
     },
     "metadata": {},
     "output_type": "display_data"
    }
   ],
   "source": [
    "metrics = {\n",
    "    \"Ticker\": ticker_symbol,\n",
    "    \"Sector\": info.get('sector'),\n",
    "    \"Industry\": info.get('industry'),\n",
    "    \"Market Cap\": info.get('marketCap'),\n",
    "    \"P/E Ratio\": info.get('trailingPE'),\n",
    "    \"P/B Ratio\": info.get('priceToBook'),\n",
    "    \"Dividend Yield\": info.get('dividendYield'),\n",
    "    \"Revenue (TTM)\": info.get('totalRevenue'),\n",
    "    \"Net Income (TTM)\": info.get('netIncomeToCommon'),\n",
    "    \"Debt\": info.get('totalDebt'),\n",
    "    \"Cash\": info.get('totalCash'),\n",
    "    \"ROE\": info.get('returnOnEquity'),\n",
    "}\n",
    "display(pd.DataFrame(metrics, index=[0]).T)\n"
   ]
  },
  {
   "cell_type": "markdown",
   "id": "97e1238f",
   "metadata": {},
   "source": [
    "5.2 Key Financials (Income, Balance, Cash Flow)"
   ]
  },
  {
   "cell_type": "code",
   "execution_count": 5,
   "id": "c4632f00",
   "metadata": {},
   "outputs": [
    {
     "name": "stderr",
     "output_type": "stream",
     "text": [
      "C:\\Users\\ASUS\\AppData\\Local\\Temp\\ipykernel_21840\\3030953164.py:6: FutureWarning: The default fill_method='pad' in Series.pct_change is deprecated and will be removed in a future version. Either fill in any non-leading NA values prior to calling pct_change or specify 'fill_method=None' to not fill NA values.\n",
      "  fin['Revenue Growth %'] = fin['Total Revenue'].pct_change() * 100\n",
      "C:\\Users\\ASUS\\AppData\\Local\\Temp\\ipykernel_21840\\3030953164.py:7: FutureWarning: The default fill_method='pad' in Series.pct_change is deprecated and will be removed in a future version. Either fill in any non-leading NA values prior to calling pct_change or specify 'fill_method=None' to not fill NA values.\n",
      "  fin['Net Income Growth %'] = fin['Net Income'].pct_change() * 100\n"
     ]
    },
    {
     "data": {
      "text/html": [
       "<div>\n",
       "<style scoped>\n",
       "    .dataframe tbody tr th:only-of-type {\n",
       "        vertical-align: middle;\n",
       "    }\n",
       "\n",
       "    .dataframe tbody tr th {\n",
       "        vertical-align: top;\n",
       "    }\n",
       "\n",
       "    .dataframe thead th {\n",
       "        text-align: right;\n",
       "    }\n",
       "</style>\n",
       "<table border=\"1\" class=\"dataframe\">\n",
       "  <thead>\n",
       "    <tr style=\"text-align: right;\">\n",
       "      <th></th>\n",
       "      <th>Total Revenue</th>\n",
       "      <th>Revenue Growth %</th>\n",
       "      <th>Net Income</th>\n",
       "      <th>Net Income Growth %</th>\n",
       "    </tr>\n",
       "  </thead>\n",
       "  <tbody>\n",
       "    <tr>\n",
       "      <th>2023-09-30</th>\n",
       "      <td>3.832850e+11</td>\n",
       "      <td>-1.981920</td>\n",
       "      <td>9.699500e+10</td>\n",
       "      <td>3.476786</td>\n",
       "    </tr>\n",
       "    <tr>\n",
       "      <th>2022-09-30</th>\n",
       "      <td>3.943280e+11</td>\n",
       "      <td>2.881146</td>\n",
       "      <td>9.980300e+10</td>\n",
       "      <td>2.894995</td>\n",
       "    </tr>\n",
       "    <tr>\n",
       "      <th>2021-09-30</th>\n",
       "      <td>3.658170e+11</td>\n",
       "      <td>-7.230275</td>\n",
       "      <td>9.468000e+10</td>\n",
       "      <td>-5.133112</td>\n",
       "    </tr>\n",
       "    <tr>\n",
       "      <th>2020-09-30</th>\n",
       "      <td>NaN</td>\n",
       "      <td>0.000000</td>\n",
       "      <td>NaN</td>\n",
       "      <td>0.000000</td>\n",
       "    </tr>\n",
       "  </tbody>\n",
       "</table>\n",
       "</div>"
      ],
      "text/plain": [
       "            Total Revenue  Revenue Growth %    Net Income  Net Income Growth %\n",
       "2023-09-30   3.832850e+11         -1.981920  9.699500e+10             3.476786\n",
       "2022-09-30   3.943280e+11          2.881146  9.980300e+10             2.894995\n",
       "2021-09-30   3.658170e+11         -7.230275  9.468000e+10            -5.133112\n",
       "2020-09-30            NaN          0.000000           NaN             0.000000"
      ]
     },
     "metadata": {},
     "output_type": "display_data"
    }
   ],
   "source": [
    "fin = stock.financials.T\n",
    "bal = stock.balance_sheet.T\n",
    "cf = stock.cashflow.T\n",
    "\n",
    "# Show last four years trending\n",
    "fin['Revenue Growth %'] = fin['Total Revenue'].pct_change() * 100\n",
    "fin['Net Income Growth %'] = fin['Net Income'].pct_change() * 100\n",
    "display(fin[['Total Revenue', 'Revenue Growth %', 'Net Income', 'Net Income Growth %']].tail(4))\n"
   ]
  },
  {
   "cell_type": "markdown",
   "id": "14144ee2",
   "metadata": {},
   "source": [
    "5.3 Margins, Liquidity, Solvency"
   ]
  },
  {
   "cell_type": "code",
   "execution_count": 6,
   "id": "9ddd7373",
   "metadata": {},
   "outputs": [
    {
     "name": "stdout",
     "output_type": "stream",
     "text": [
      "Gross Margin: 46.63%\n",
      "Operating Margin: 31.03%\n",
      "Liquidity ratios: N/A\n"
     ]
    }
   ],
   "source": [
    "# Gross & Operating Margin\n",
    "try:\n",
    "    print(\"Gross Margin:\", f\"{info.get('grossMargins'):.2%}\")\n",
    "    print(\"Operating Margin:\", f\"{info.get('operatingMargins'):.2%}\")\n",
    "except:\n",
    "    pass\n",
    "\n",
    "# Current & Quick Ratios\n",
    "try:\n",
    "    current_ratio = bal['Total Current Assets'].iloc[-1] / bal['Total Current Liabilities'].iloc[-1]\n",
    "    quick_ratio = (bal['Total Current Assets'].iloc[-1] - bal['Inventory'].iloc[-1]) / bal['Total Current Liabilities'].iloc[-1]\n",
    "    print(f\"Current Ratio: {current_ratio:.2f}\")\n",
    "    print(f\"Quick Ratio: {quick_ratio:.2f}\")\n",
    "except:\n",
    "    print(\"Liquidity ratios: N/A\")\n"
   ]
  },
  {
   "cell_type": "markdown",
   "id": "4bfcb1f5",
   "metadata": {},
   "source": [
    "5.4 Cash Flow Trends\n",
    "python"
   ]
  },
  {
   "cell_type": "code",
   "execution_count": 7,
   "id": "48223360",
   "metadata": {},
   "outputs": [
    {
     "data": {
      "text/plain": [
       "<bound method NDFrame.head of             Free Cash Flow  Repurchase Of Capital Stock  Repayment Of Debt  \\\n",
       "2024-09-30    1.088070e+11                -9.494900e+10      -9.958000e+09   \n",
       "2023-09-30    9.958400e+10                -7.755000e+10      -1.115100e+10   \n",
       "2022-09-30    1.114430e+11                -8.940200e+10      -9.543000e+09   \n",
       "2021-09-30    9.295300e+10                -8.597100e+10      -8.750000e+09   \n",
       "2020-09-30             NaN                          NaN                NaN   \n",
       "\n",
       "            Issuance Of Debt  Issuance Of Capital Stock  Capital Expenditure  \\\n",
       "2024-09-30      0.000000e+00                        NaN        -9.447000e+09   \n",
       "2023-09-30      5.228000e+09                        NaN        -1.095900e+10   \n",
       "2022-09-30      5.465000e+09                        NaN        -1.070800e+10   \n",
       "2021-09-30      2.039300e+10               1.105000e+09        -1.108500e+10   \n",
       "2020-09-30               NaN               8.800000e+08                  NaN   \n",
       "\n",
       "            Interest Paid Supplemental Data  \\\n",
       "2024-09-30                              NaN   \n",
       "2023-09-30                     3.803000e+09   \n",
       "2022-09-30                     2.865000e+09   \n",
       "2021-09-30                     2.687000e+09   \n",
       "2020-09-30                     3.002000e+09   \n",
       "\n",
       "            Income Tax Paid Supplemental Data  End Cash Position  \\\n",
       "2024-09-30                       2.610200e+10       2.994300e+10   \n",
       "2023-09-30                       1.867900e+10       3.073700e+10   \n",
       "2022-09-30                       1.957300e+10       2.497700e+10   \n",
       "2021-09-30                       2.538500e+10       3.592900e+10   \n",
       "2020-09-30                                NaN                NaN   \n",
       "\n",
       "            Beginning Cash Position  ...  Change In Inventory  \\\n",
       "2024-09-30             3.073700e+10  ...        -1.046000e+09   \n",
       "2023-09-30             2.497700e+10  ...        -1.618000e+09   \n",
       "2022-09-30             3.592900e+10  ...         1.484000e+09   \n",
       "2021-09-30             3.978900e+10  ...        -2.642000e+09   \n",
       "2020-09-30                      NaN  ...                  NaN   \n",
       "\n",
       "            Change In Receivables  Changes In Account Receivables  \\\n",
       "2024-09-30          -5.144000e+09                   -3.788000e+09   \n",
       "2023-09-30          -4.170000e+08                   -1.688000e+09   \n",
       "2022-09-30          -9.343000e+09                   -1.823000e+09   \n",
       "2021-09-30          -1.402800e+10                   -1.012500e+10   \n",
       "2020-09-30                    NaN                             NaN   \n",
       "\n",
       "            Other Non Cash Items  Stock Based Compensation  Deferred Tax  \\\n",
       "2024-09-30         -2.266000e+09              1.168800e+10           NaN   \n",
       "2023-09-30         -2.227000e+09              1.083300e+10           NaN   \n",
       "2022-09-30          1.006000e+09              9.038000e+09  8.950000e+08   \n",
       "2021-09-30         -4.921000e+09              7.906000e+09 -4.774000e+09   \n",
       "2020-09-30                   NaN                       NaN -2.150000e+08   \n",
       "\n",
       "            Deferred Income Tax  Depreciation Amortization Depletion  \\\n",
       "2024-09-30                  NaN                         1.144500e+10   \n",
       "2023-09-30                  NaN                         1.151900e+10   \n",
       "2022-09-30         8.950000e+08                         1.110400e+10   \n",
       "2021-09-30        -4.774000e+09                         1.128400e+10   \n",
       "2020-09-30        -2.150000e+08                                  NaN   \n",
       "\n",
       "            Depreciation And Amortization  \\\n",
       "2024-09-30                   1.144500e+10   \n",
       "2023-09-30                   1.151900e+10   \n",
       "2022-09-30                   1.110400e+10   \n",
       "2021-09-30                   1.128400e+10   \n",
       "2020-09-30                            NaN   \n",
       "\n",
       "            Net Income From Continuing Operations  \n",
       "2024-09-30                           9.373600e+10  \n",
       "2023-09-30                           9.699500e+10  \n",
       "2022-09-30                           9.980300e+10  \n",
       "2021-09-30                           9.468000e+10  \n",
       "2020-09-30                                    NaN  \n",
       "\n",
       "[5 rows x 53 columns]>"
      ]
     },
     "execution_count": 7,
     "metadata": {},
     "output_type": "execute_result"
    }
   ],
   "source": [
    "cf.head"
   ]
  },
  {
   "cell_type": "code",
   "execution_count": 9,
   "id": "1b89b6a0",
   "metadata": {},
   "outputs": [
    {
     "data": {
      "text/plain": [
       "Index(['Free Cash Flow', 'Repurchase Of Capital Stock', 'Repayment Of Debt',\n",
       "       'Issuance Of Debt', 'Issuance Of Capital Stock', 'Capital Expenditure',\n",
       "       'Interest Paid Supplemental Data', 'Income Tax Paid Supplemental Data',\n",
       "       'End Cash Position', 'Beginning Cash Position', 'Changes In Cash',\n",
       "       'Financing Cash Flow', 'Cash Flow From Continuing Financing Activities',\n",
       "       'Net Other Financing Charges', 'Cash Dividends Paid',\n",
       "       'Common Stock Dividend Paid', 'Net Common Stock Issuance',\n",
       "       'Common Stock Payments', 'Common Stock Issuance',\n",
       "       'Net Issuance Payments Of Debt', 'Net Short Term Debt Issuance',\n",
       "       'Net Long Term Debt Issuance', 'Long Term Debt Payments',\n",
       "       'Long Term Debt Issuance', 'Investing Cash Flow',\n",
       "       'Cash Flow From Continuing Investing Activities',\n",
       "       'Net Other Investing Changes', 'Net Investment Purchase And Sale',\n",
       "       'Sale Of Investment', 'Purchase Of Investment',\n",
       "       'Net Business Purchase And Sale', 'Purchase Of Business',\n",
       "       'Net PPE Purchase And Sale', 'Purchase Of PPE', 'Operating Cash Flow',\n",
       "       'Cash Flow From Continuing Operating Activities',\n",
       "       'Change In Working Capital', 'Change In Other Working Capital',\n",
       "       'Change In Other Current Liabilities', 'Change In Other Current Assets',\n",
       "       'Change In Payables And Accrued Expense', 'Change In Payable',\n",
       "       'Change In Account Payable', 'Change In Inventory',\n",
       "       'Change In Receivables', 'Changes In Account Receivables',\n",
       "       'Other Non Cash Items', 'Stock Based Compensation', 'Deferred Tax',\n",
       "       'Deferred Income Tax', 'Depreciation Amortization Depletion',\n",
       "       'Depreciation And Amortization',\n",
       "       'Net Income From Continuing Operations'],\n",
       "      dtype='object')"
      ]
     },
     "execution_count": 9,
     "metadata": {},
     "output_type": "execute_result"
    }
   ],
   "source": [
    "cf.columns"
   ]
  },
  {
   "cell_type": "code",
   "execution_count": 10,
   "id": "1ee1b1a0",
   "metadata": {},
   "outputs": [
    {
     "data": {
      "text/html": [
       "<div>\n",
       "<style scoped>\n",
       "    .dataframe tbody tr th:only-of-type {\n",
       "        vertical-align: middle;\n",
       "    }\n",
       "\n",
       "    .dataframe tbody tr th {\n",
       "        vertical-align: top;\n",
       "    }\n",
       "\n",
       "    .dataframe thead th {\n",
       "        text-align: right;\n",
       "    }\n",
       "</style>\n",
       "<table border=\"1\" class=\"dataframe\">\n",
       "  <thead>\n",
       "    <tr style=\"text-align: right;\">\n",
       "      <th></th>\n",
       "      <th>Operating Cash Flow</th>\n",
       "      <th>Free Cash Flow</th>\n",
       "    </tr>\n",
       "  </thead>\n",
       "  <tbody>\n",
       "    <tr>\n",
       "      <th>2023-09-30</th>\n",
       "      <td>1.105430e+11</td>\n",
       "      <td>9.958400e+10</td>\n",
       "    </tr>\n",
       "    <tr>\n",
       "      <th>2022-09-30</th>\n",
       "      <td>1.221510e+11</td>\n",
       "      <td>1.114430e+11</td>\n",
       "    </tr>\n",
       "    <tr>\n",
       "      <th>2021-09-30</th>\n",
       "      <td>1.040380e+11</td>\n",
       "      <td>9.295300e+10</td>\n",
       "    </tr>\n",
       "    <tr>\n",
       "      <th>2020-09-30</th>\n",
       "      <td>NaN</td>\n",
       "      <td>NaN</td>\n",
       "    </tr>\n",
       "  </tbody>\n",
       "</table>\n",
       "</div>"
      ],
      "text/plain": [
       "            Operating Cash Flow  Free Cash Flow\n",
       "2023-09-30         1.105430e+11    9.958400e+10\n",
       "2022-09-30         1.221510e+11    1.114430e+11\n",
       "2021-09-30         1.040380e+11    9.295300e+10\n",
       "2020-09-30                  NaN             NaN"
      ]
     },
     "metadata": {},
     "output_type": "display_data"
    }
   ],
   "source": [
    "try:\n",
    "    display(cf[['Operating Cash Flow', 'Free Cash Flow']].tail(4))\n",
    "except:\n",
    "    display(cf[['Total Cash From Operating Activities']].tail(4))\n"
   ]
  },
  {
   "cell_type": "markdown",
   "id": "5d64ba6d",
   "metadata": {},
   "source": [
    "5.5 Solvency/Efficiency"
   ]
  },
  {
   "cell_type": "code",
   "execution_count": 11,
   "id": "08d7f9b1",
   "metadata": {},
   "outputs": [
    {
     "name": "stdout",
     "output_type": "stream",
     "text": [
      "Debt/Equity Ratio: nan\n"
     ]
    }
   ],
   "source": [
    "try:\n",
    "    total_debt = info.get('totalDebt')\n",
    "    total_equity = info.get('totalStockholderEquity')\n",
    "    de_ratio = total_debt / total_equity if total_debt and total_equity else np.nan\n",
    "    print(f\"Debt/Equity Ratio: {de_ratio:.2f}\")\n",
    "except:\n",
    "    print(\"Debt/Equity Ratio: N/A\")\n"
   ]
  },
  {
   "cell_type": "markdown",
   "id": "931caab7",
   "metadata": {},
   "source": [
    "6. Peer & Sector Comparison\n",
    "Manually specify direct competitors and compare across key ratios."
   ]
  },
  {
   "cell_type": "code",
   "execution_count": 12,
   "id": "4424a6eb",
   "metadata": {},
   "outputs": [
    {
     "data": {
      "text/html": [
       "<div>\n",
       "<style scoped>\n",
       "    .dataframe tbody tr th:only-of-type {\n",
       "        vertical-align: middle;\n",
       "    }\n",
       "\n",
       "    .dataframe tbody tr th {\n",
       "        vertical-align: top;\n",
       "    }\n",
       "\n",
       "    .dataframe thead th {\n",
       "        text-align: right;\n",
       "    }\n",
       "</style>\n",
       "<table border=\"1\" class=\"dataframe\">\n",
       "  <thead>\n",
       "    <tr style=\"text-align: right;\">\n",
       "      <th></th>\n",
       "      <th>Ticker</th>\n",
       "      <th>PE</th>\n",
       "      <th>PB</th>\n",
       "      <th>PEG</th>\n",
       "      <th>Market Cap</th>\n",
       "    </tr>\n",
       "  </thead>\n",
       "  <tbody>\n",
       "    <tr>\n",
       "      <th>0</th>\n",
       "      <td>MSFT</td>\n",
       "      <td>39.355710</td>\n",
       "      <td>11.779446</td>\n",
       "      <td>None</td>\n",
       "      <td>3790967144448</td>\n",
       "    </tr>\n",
       "    <tr>\n",
       "      <th>1</th>\n",
       "      <td>GOOGL</td>\n",
       "      <td>20.654018</td>\n",
       "      <td>6.515050</td>\n",
       "      <td>None</td>\n",
       "      <td>2250459316224</td>\n",
       "    </tr>\n",
       "    <tr>\n",
       "      <th>2</th>\n",
       "      <td>NVDA</td>\n",
       "      <td>55.616130</td>\n",
       "      <td>50.148342</td>\n",
       "      <td>None</td>\n",
       "      <td>4204666290176</td>\n",
       "    </tr>\n",
       "  </tbody>\n",
       "</table>\n",
       "</div>"
      ],
      "text/plain": [
       "  Ticker         PE         PB   PEG     Market Cap\n",
       "0   MSFT  39.355710  11.779446  None  3790967144448\n",
       "1  GOOGL  20.654018   6.515050  None  2250459316224\n",
       "2   NVDA  55.616130  50.148342  None  4204666290176"
      ]
     },
     "metadata": {},
     "output_type": "display_data"
    }
   ],
   "source": [
    "peers = ['MSFT', 'GOOGL', 'NVDA']\n",
    "peer_table = []\n",
    "for peer in peers:\n",
    "    pinfo = yf.Ticker(peer).info\n",
    "    peer_table.append({\n",
    "        \"Ticker\": peer,\n",
    "        \"PE\": pinfo.get(\"trailingPE\"),\n",
    "        \"PB\": pinfo.get(\"priceToBook\"),\n",
    "        \"PEG\": pinfo.get(\"pegRatio\"),\n",
    "        \"Market Cap\": pinfo.get(\"marketCap\")\n",
    "    })\n",
    "df_peers = pd.DataFrame(peer_table)\n",
    "display(df_peers)\n"
   ]
  },
  {
   "cell_type": "markdown",
   "id": "1207864f",
   "metadata": {},
   "source": [
    "Plot PE ratios:"
   ]
  },
  {
   "cell_type": "code",
   "execution_count": 13,
   "id": "32851b81",
   "metadata": {},
   "outputs": [
    {
     "data": {
      "image/png": "[encoded data removed]",
      "text/plain": [
       "<Figure size 500x300 with 1 Axes>"
      ]
     },
     "metadata": {},
     "output_type": "display_data"
    }
   ],
   "source": [
    "\n",
    "plt.figure(figsize=(5,3))\n",
    "plt.bar([ticker_symbol] + peers,\n",
    "        [info.get('trailingPE')] + [yf.Ticker(p).info.get('trailingPE') for p in peers])\n",
    "plt.ylabel('P/E Ratio')\n",
    "plt.title('Peer Comparison')\n",
    "plt.show()\n"
   ]
  },
  {
   "cell_type": "markdown",
   "id": "982f047e",
   "metadata": {},
   "source": [
    "7. Technical Analysis\n",
    "7.1 Indicator Calculation"
   ]
  },
  {
   "cell_type": "code",
   "execution_count": 14,
   "id": "ef11094f",
   "metadata": {},
   "outputs": [
    {
     "ename": "KeyError",
     "evalue": "('Close', 'AAPL')",
     "output_type": "error",
     "traceback": [
      "\u001b[1;31m---------------------------------------------------------------------------\u001b[0m",
      "\u001b[1;31mKeyError\u001b[0m                                  Traceback (most recent call last)",
      "File \u001b[1;32m~\\AppData\\Local\\Packages\\PythonSoftwareFoundation.Python.3.11_qbz5n2kfra8p0\\LocalCache\\local-packages\\Python311\\site-packages\\pandas\\core\\indexes\\base.py:3812\u001b[0m, in \u001b[0;36mIndex.get_loc\u001b[1;34m(self, key)\u001b[0m\n\u001b[0;32m   3811\u001b[0m \u001b[38;5;28;01mtry\u001b[39;00m:\n\u001b[1;32m-> 3812\u001b[0m     \u001b[38;5;28;01mreturn\u001b[39;00m \u001b[38;5;28;43mself\u001b[39;49m\u001b[38;5;241;43m.\u001b[39;49m\u001b[43m_engine\u001b[49m\u001b[38;5;241;43m.\u001b[39;49m\u001b[43mget_loc\u001b[49m\u001b[43m(\u001b[49m\u001b[43mcasted_key\u001b[49m\u001b[43m)\u001b[49m\n\u001b[0;32m   3813\u001b[0m \u001b[38;5;28;01mexcept\u001b[39;00m \u001b[38;5;167;01mKeyError\u001b[39;00m \u001b[38;5;28;01mas\u001b[39;00m err:\n",
      "File \u001b[1;32mpandas/_libs/index.pyx:167\u001b[0m, in \u001b[0;36mpandas._libs.index.IndexEngine.get_loc\u001b[1;34m()\u001b[0m\n",
      "File \u001b[1;32mpandas/_libs/index.pyx:196\u001b[0m, in \u001b[0;36mpandas._libs.index.IndexEngine.get_loc\u001b[1;34m()\u001b[0m\n",
      "File \u001b[1;32mpandas/_libs/hashtable_class_helper.pxi:7088\u001b[0m, in \u001b[0;36mpandas._libs.hashtable.PyObjectHashTable.get_item\u001b[1;34m()\u001b[0m\n",
      "File \u001b[1;32mpandas/_libs/hashtable_class_helper.pxi:7096\u001b[0m, in \u001b[0;36mpandas._libs.hashtable.PyObjectHashTable.get_item\u001b[1;34m()\u001b[0m\n",
      "\u001b[1;31mKeyError\u001b[0m: ('Close', 'AAPL')",
      "\nThe above exception was the direct cause of the following exception:\n",
      "\u001b[1;31mKeyError\u001b[0m                                  Traceback (most recent call last)",
      "Cell \u001b[1;32mIn[14], line 4\u001b[0m\n\u001b[0;32m      1\u001b[0m \u001b[38;5;66;03m# Prepare Series for pandas_ta\u001b[39;00m\n\u001b[0;32m      2\u001b[0m \n\u001b[0;32m      3\u001b[0m \u001b[38;5;66;03m# Assuming `data` is your DataFrame, get Series\u001b[39;00m\n\u001b[1;32m----> 4\u001b[0m close \u001b[38;5;241m=\u001b[39m data[\u001b[38;5;124m'\u001b[39m\u001b[38;5;124mClose\u001b[39m\u001b[38;5;124m'\u001b[39m] \u001b[38;5;28;01mif\u001b[39;00m \u001b[38;5;124m'\u001b[39m\u001b[38;5;124mClose\u001b[39m\u001b[38;5;124m'\u001b[39m \u001b[38;5;129;01min\u001b[39;00m data \u001b[38;5;28;01melse\u001b[39;00m \u001b[43mdata\u001b[49m\u001b[43m[\u001b[49m\u001b[43m(\u001b[49m\u001b[38;5;124;43m'\u001b[39;49m\u001b[38;5;124;43mClose\u001b[39;49m\u001b[38;5;124;43m'\u001b[39;49m\u001b[43m,\u001b[49m\u001b[43m \u001b[49m\u001b[38;5;124;43m'\u001b[39;49m\u001b[38;5;124;43mAAPL\u001b[39;49m\u001b[38;5;124;43m'\u001b[39;49m\u001b[43m)\u001b[49m\u001b[43m]\u001b[49m\n\u001b[0;32m      5\u001b[0m \u001b[38;5;28;01mif\u001b[39;00m \u001b[38;5;28misinstance\u001b[39m(close, pd\u001b[38;5;241m.\u001b[39mDataFrame):\n\u001b[0;32m      6\u001b[0m     close \u001b[38;5;241m=\u001b[39m close\u001b[38;5;241m.\u001b[39msqueeze()\n",
      "File \u001b[1;32m~\\AppData\\Local\\Packages\\PythonSoftwareFoundation.Python.3.11_qbz5n2kfra8p0\\LocalCache\\local-packages\\Python311\\site-packages\\pandas\\core\\frame.py:4107\u001b[0m, in \u001b[0;36mDataFrame.__getitem__\u001b[1;34m(self, key)\u001b[0m\n\u001b[0;32m   4105\u001b[0m \u001b[38;5;28;01mif\u001b[39;00m \u001b[38;5;28mself\u001b[39m\u001b[38;5;241m.\u001b[39mcolumns\u001b[38;5;241m.\u001b[39mnlevels \u001b[38;5;241m>\u001b[39m \u001b[38;5;241m1\u001b[39m:\n\u001b[0;32m   4106\u001b[0m     \u001b[38;5;28;01mreturn\u001b[39;00m \u001b[38;5;28mself\u001b[39m\u001b[38;5;241m.\u001b[39m_getitem_multilevel(key)\n\u001b[1;32m-> 4107\u001b[0m indexer \u001b[38;5;241m=\u001b[39m \u001b[38;5;28;43mself\u001b[39;49m\u001b[38;5;241;43m.\u001b[39;49m\u001b[43mcolumns\u001b[49m\u001b[38;5;241;43m.\u001b[39;49m\u001b[43mget_loc\u001b[49m\u001b[43m(\u001b[49m\u001b[43mkey\u001b[49m\u001b[43m)\u001b[49m\n\u001b[0;32m   4108\u001b[0m \u001b[38;5;28;01mif\u001b[39;00m is_integer(indexer):\n\u001b[0;32m   4109\u001b[0m     indexer \u001b[38;5;241m=\u001b[39m [indexer]\n",
      "File \u001b[1;32m~\\AppData\\Local\\Packages\\PythonSoftwareFoundation.Python.3.11_qbz5n2kfra8p0\\LocalCache\\local-packages\\Python311\\site-packages\\pandas\\core\\indexes\\base.py:3819\u001b[0m, in \u001b[0;36mIndex.get_loc\u001b[1;34m(self, key)\u001b[0m\n\u001b[0;32m   3814\u001b[0m     \u001b[38;5;28;01mif\u001b[39;00m \u001b[38;5;28misinstance\u001b[39m(casted_key, \u001b[38;5;28mslice\u001b[39m) \u001b[38;5;129;01mor\u001b[39;00m (\n\u001b[0;32m   3815\u001b[0m         \u001b[38;5;28misinstance\u001b[39m(casted_key, abc\u001b[38;5;241m.\u001b[39mIterable)\n\u001b[0;32m   3816\u001b[0m         \u001b[38;5;129;01mand\u001b[39;00m \u001b[38;5;28many\u001b[39m(\u001b[38;5;28misinstance\u001b[39m(x, \u001b[38;5;28mslice\u001b[39m) \u001b[38;5;28;01mfor\u001b[39;00m x \u001b[38;5;129;01min\u001b[39;00m casted_key)\n\u001b[0;32m   3817\u001b[0m     ):\n\u001b[0;32m   3818\u001b[0m         \u001b[38;5;28;01mraise\u001b[39;00m InvalidIndexError(key)\n\u001b[1;32m-> 3819\u001b[0m     \u001b[38;5;28;01mraise\u001b[39;00m \u001b[38;5;167;01mKeyError\u001b[39;00m(key) \u001b[38;5;28;01mfrom\u001b[39;00m \u001b[38;5;21;01merr\u001b[39;00m\n\u001b[0;32m   3820\u001b[0m \u001b[38;5;28;01mexcept\u001b[39;00m \u001b[38;5;167;01mTypeError\u001b[39;00m:\n\u001b[0;32m   3821\u001b[0m     \u001b[38;5;66;03m# If we have a listlike key, _check_indexing_error will raise\u001b[39;00m\n\u001b[0;32m   3822\u001b[0m     \u001b[38;5;66;03m#  InvalidIndexError. Otherwise we fall through and re-raise\u001b[39;00m\n\u001b[0;32m   3823\u001b[0m     \u001b[38;5;66;03m#  the TypeError.\u001b[39;00m\n\u001b[0;32m   3824\u001b[0m     \u001b[38;5;28mself\u001b[39m\u001b[38;5;241m.\u001b[39m_check_indexing_error(key)\n",
      "\u001b[1;31mKeyError\u001b[0m: ('Close', 'AAPL')"
     ]
    }
   ],
   "source": [
    "# Prepare Series for pandas_ta\n",
    "\n",
    "# Assuming `data` is your DataFrame, get Series\n",
    "close = data['Close'] if 'Close' in data else data[('Close', 'AAPL')]\n",
    "if isinstance(close, pd.DataFrame):\n",
    "    close = close.squeeze()\n",
    "\n",
    "high = data['High'] if 'High' in data else data[('High', 'AAPL')]\n",
    "if isinstance(high, pd.DataFrame):\n",
    "    high = high.squeeze()\n",
    "\n",
    "low = data['Low'] if 'Low' in data else data[('Low', 'AAPL')]\n",
    "if isinstance(low, pd.DataFrame):\n",
    "    low = low.squeeze()\n",
    "\n",
    "volume = data['Volume'] if 'Volume' in data else data[('Volume', 'AAPL')]\n",
    "if isinstance(volume, pd.DataFrame):\n",
    "    volume = volume.squeeze()\n",
    "data['EMA_20'] = ta.ema(close, length=20)\n",
    "data['EMA_50'] = ta.ema(close, length=50)\n",
    "data['WILLR'] = ta.willr(high, low, close, length=14)\n",
    "data['RSI'] = ta.rsi(close, length=14)\n",
    "data['ATR'] = ta.atr(high, low, close, length=14)\n",
    "stochrsi = ta.stochrsi(close, length=14)\n",
    "if isinstance(stochrsi, pd.DataFrame):\n",
    "    data['StochRSI'] = stochrsi.iloc[:, 0]\n",
    "data['CMO'] = ta.cmo(close, length=14)\n",
    "kc = ta.kc(high, low, close, length=20)\n",
    "data['KC_Mid'] = kc['KCLe_20_2.0']\n",
    "data['KC_Upper'] = kc['KCLU_20_2.0']\n",
    "adx = ta.adx(high, low, close, length=14)\n",
    "data['ADX'] = adx['ADX_14']\n",
    "\n",
    "# Donchian channel\n",
    "donch = ta.donchian(high=high, low=low, lower_length=20, upper_length=20)\n",
    "data['donchian_high'] = donch['DCU_20_20']\n",
    "data['donchian_low'] = donch['DCL_20_20']\n"
   ]
  },
  {
   "cell_type": "markdown",
   "id": "73ea08d9",
   "metadata": {},
   "source": [
    "7.2 Signal Generation"
   ]
  },
  {
   "cell_type": "code",
   "execution_count": 13,
   "id": "07fbf0cb",
   "metadata": {},
   "outputs": [
    {
     "ename": "KeyError",
     "evalue": "'RSI'",
     "output_type": "error",
     "traceback": [
      "\u001b[1;31m---------------------------------------------------------------------------\u001b[0m",
      "\u001b[1;31mKeyError\u001b[0m                                  Traceback (most recent call last)",
      "File \u001b[1;32m~\\AppData\\Local\\Packages\\PythonSoftwareFoundation.Python.3.11_qbz5n2kfra8p0\\LocalCache\\local-packages\\Python311\\site-packages\\pandas\\core\\indexes\\base.py:3812\u001b[0m, in \u001b[0;36mIndex.get_loc\u001b[1;34m(self, key)\u001b[0m\n\u001b[0;32m   3811\u001b[0m \u001b[38;5;28;01mtry\u001b[39;00m:\n\u001b[1;32m-> 3812\u001b[0m     \u001b[38;5;28;01mreturn\u001b[39;00m \u001b[38;5;28;43mself\u001b[39;49m\u001b[38;5;241;43m.\u001b[39;49m\u001b[43m_engine\u001b[49m\u001b[38;5;241;43m.\u001b[39;49m\u001b[43mget_loc\u001b[49m\u001b[43m(\u001b[49m\u001b[43mcasted_key\u001b[49m\u001b[43m)\u001b[49m\n\u001b[0;32m   3813\u001b[0m \u001b[38;5;28;01mexcept\u001b[39;00m \u001b[38;5;167;01mKeyError\u001b[39;00m \u001b[38;5;28;01mas\u001b[39;00m err:\n",
      "File \u001b[1;32mpandas/_libs/index.pyx:167\u001b[0m, in \u001b[0;36mpandas._libs.index.IndexEngine.get_loc\u001b[1;34m()\u001b[0m\n",
      "File \u001b[1;32mpandas/_libs/index.pyx:196\u001b[0m, in \u001b[0;36mpandas._libs.index.IndexEngine.get_loc\u001b[1;34m()\u001b[0m\n",
      "File \u001b[1;32mpandas/_libs/hashtable_class_helper.pxi:7088\u001b[0m, in \u001b[0;36mpandas._libs.hashtable.PyObjectHashTable.get_item\u001b[1;34m()\u001b[0m\n",
      "File \u001b[1;32mpandas/_libs/hashtable_class_helper.pxi:7096\u001b[0m, in \u001b[0;36mpandas._libs.hashtable.PyObjectHashTable.get_item\u001b[1;34m()\u001b[0m\n",
      "\u001b[1;31mKeyError\u001b[0m: 'RSI'",
      "\nThe above exception was the direct cause of the following exception:\n",
      "\u001b[1;31mKeyError\u001b[0m                                  Traceback (most recent call last)",
      "Cell \u001b[1;32mIn[13], line 3\u001b[0m\n\u001b[0;32m      1\u001b[0m \u001b[38;5;66;03m# RSI-based events\u001b[39;00m\n\u001b[0;32m      2\u001b[0m data[\u001b[38;5;124m'\u001b[39m\u001b[38;5;124mRSI_signal\u001b[39m\u001b[38;5;124m'\u001b[39m] \u001b[38;5;241m=\u001b[39m \u001b[38;5;241m0\u001b[39m\n\u001b[1;32m----> 3\u001b[0m data\u001b[38;5;241m.\u001b[39mloc[\u001b[43mdata\u001b[49m\u001b[43m[\u001b[49m\u001b[38;5;124;43m'\u001b[39;49m\u001b[38;5;124;43mRSI\u001b[39;49m\u001b[38;5;124;43m'\u001b[39;49m\u001b[43m]\u001b[49m \u001b[38;5;241m<\u001b[39m \u001b[38;5;241m30\u001b[39m, \u001b[38;5;124m'\u001b[39m\u001b[38;5;124mRSI_signal\u001b[39m\u001b[38;5;124m'\u001b[39m] \u001b[38;5;241m=\u001b[39m \u001b[38;5;241m1\u001b[39m\n\u001b[0;32m      4\u001b[0m data\u001b[38;5;241m.\u001b[39mloc[data[\u001b[38;5;124m'\u001b[39m\u001b[38;5;124mRSI\u001b[39m\u001b[38;5;124m'\u001b[39m] \u001b[38;5;241m>\u001b[39m \u001b[38;5;241m70\u001b[39m, \u001b[38;5;124m'\u001b[39m\u001b[38;5;124mRSI_signal\u001b[39m\u001b[38;5;124m'\u001b[39m] \u001b[38;5;241m=\u001b[39m \u001b[38;5;241m-\u001b[39m\u001b[38;5;241m1\u001b[39m\n\u001b[0;32m      6\u001b[0m \u001b[38;5;66;03m# MACD signals\u001b[39;00m\n",
      "File \u001b[1;32m~\\AppData\\Local\\Packages\\PythonSoftwareFoundation.Python.3.11_qbz5n2kfra8p0\\LocalCache\\local-packages\\Python311\\site-packages\\pandas\\core\\frame.py:4107\u001b[0m, in \u001b[0;36mDataFrame.__getitem__\u001b[1;34m(self, key)\u001b[0m\n\u001b[0;32m   4105\u001b[0m \u001b[38;5;28;01mif\u001b[39;00m \u001b[38;5;28mself\u001b[39m\u001b[38;5;241m.\u001b[39mcolumns\u001b[38;5;241m.\u001b[39mnlevels \u001b[38;5;241m>\u001b[39m \u001b[38;5;241m1\u001b[39m:\n\u001b[0;32m   4106\u001b[0m     \u001b[38;5;28;01mreturn\u001b[39;00m \u001b[38;5;28mself\u001b[39m\u001b[38;5;241m.\u001b[39m_getitem_multilevel(key)\n\u001b[1;32m-> 4107\u001b[0m indexer \u001b[38;5;241m=\u001b[39m \u001b[38;5;28;43mself\u001b[39;49m\u001b[38;5;241;43m.\u001b[39;49m\u001b[43mcolumns\u001b[49m\u001b[38;5;241;43m.\u001b[39;49m\u001b[43mget_loc\u001b[49m\u001b[43m(\u001b[49m\u001b[43mkey\u001b[49m\u001b[43m)\u001b[49m\n\u001b[0;32m   4108\u001b[0m \u001b[38;5;28;01mif\u001b[39;00m is_integer(indexer):\n\u001b[0;32m   4109\u001b[0m     indexer \u001b[38;5;241m=\u001b[39m [indexer]\n",
      "File \u001b[1;32m~\\AppData\\Local\\Packages\\PythonSoftwareFoundation.Python.3.11_qbz5n2kfra8p0\\LocalCache\\local-packages\\Python311\\site-packages\\pandas\\core\\indexes\\base.py:3819\u001b[0m, in \u001b[0;36mIndex.get_loc\u001b[1;34m(self, key)\u001b[0m\n\u001b[0;32m   3814\u001b[0m     \u001b[38;5;28;01mif\u001b[39;00m \u001b[38;5;28misinstance\u001b[39m(casted_key, \u001b[38;5;28mslice\u001b[39m) \u001b[38;5;129;01mor\u001b[39;00m (\n\u001b[0;32m   3815\u001b[0m         \u001b[38;5;28misinstance\u001b[39m(casted_key, abc\u001b[38;5;241m.\u001b[39mIterable)\n\u001b[0;32m   3816\u001b[0m         \u001b[38;5;129;01mand\u001b[39;00m \u001b[38;5;28many\u001b[39m(\u001b[38;5;28misinstance\u001b[39m(x, \u001b[38;5;28mslice\u001b[39m) \u001b[38;5;28;01mfor\u001b[39;00m x \u001b[38;5;129;01min\u001b[39;00m casted_key)\n\u001b[0;32m   3817\u001b[0m     ):\n\u001b[0;32m   3818\u001b[0m         \u001b[38;5;28;01mraise\u001b[39;00m InvalidIndexError(key)\n\u001b[1;32m-> 3819\u001b[0m     \u001b[38;5;28;01mraise\u001b[39;00m \u001b[38;5;167;01mKeyError\u001b[39;00m(key) \u001b[38;5;28;01mfrom\u001b[39;00m \u001b[38;5;21;01merr\u001b[39;00m\n\u001b[0;32m   3820\u001b[0m \u001b[38;5;28;01mexcept\u001b[39;00m \u001b[38;5;167;01mTypeError\u001b[39;00m:\n\u001b[0;32m   3821\u001b[0m     \u001b[38;5;66;03m# If we have a listlike key, _check_indexing_error will raise\u001b[39;00m\n\u001b[0;32m   3822\u001b[0m     \u001b[38;5;66;03m#  InvalidIndexError. Otherwise we fall through and re-raise\u001b[39;00m\n\u001b[0;32m   3823\u001b[0m     \u001b[38;5;66;03m#  the TypeError.\u001b[39;00m\n\u001b[0;32m   3824\u001b[0m     \u001b[38;5;28mself\u001b[39m\u001b[38;5;241m.\u001b[39m_check_indexing_error(key)\n",
      "\u001b[1;31mKeyError\u001b[0m: 'RSI'"
     ]
    }
   ],
   "source": [
    "# RSI-based events\n",
    "data['RSI_signal'] = 0\n",
    "data.loc[data['RSI'] < 30, 'RSI_signal'] = 1\n",
    "data.loc[data['RSI'] > 70, 'RSI_signal'] = -1\n",
    "\n",
    "# MACD signals\n",
    "macd = ta.macd(close)\n",
    "data['MACD'] = macd['MACD_12_26_9']\n",
    "data['MACD_Signal'] = macd['MACDs_12_26_9']\n",
    "data['MACD_signal'] = 0\n",
    "data.loc[(data['MACD'] > data['MACD_Signal']) & (data['MACD'].shift(1) <= data['MACD_Signal'].shift(1)), 'MACD_signal'] = 1\n",
    "data.loc[(data['MACD'] < data['MACD_Signal']) & (data['MACD'].shift(1) >= data['MACD_Signal'].shift(1)), 'MACD_signal'] = -1\n"
   ]
  },
  {
   "cell_type": "markdown",
   "id": "f0d5000b",
   "metadata": {},
   "source": [
    "7.3 Visualization\n",
    "Static"
   ]
  },
  {
   "cell_type": "code",
   "execution_count": null,
   "id": "420d0be7",
   "metadata": {},
   "outputs": [],
   "source": [
    "plt.figure(figsize=(12,5))\n",
    "plt.plot(close, label='Close')\n",
    "plt.plot(data['EMA_20'], label='EMA 20')\n",
    "plt.plot(data['EMA_50'], label='EMA 50')\n",
    "plt.fill_between(data.index, data['donchian_low'], data['donchian_high'], color='lightgrey', alpha=0.3, label='Donchian Channel')\n",
    "plt.title(f\"{ticker_symbol} - Price, EMA, Donchian\")\n",
    "plt.legend()\n",
    "plt.show()\n"
   ]
  },
  {
   "cell_type": "markdown",
   "id": "5bd6f3d1",
   "metadata": {},
   "source": [
    "Interactive"
   ]
  },
  {
   "cell_type": "code",
   "execution_count": null,
   "id": "e0fc9c89",
   "metadata": {},
   "outputs": [],
   "source": [
    "fig = go.Figure()\n",
    "fig.add_trace(go.Candlestick(x=data.index, open=data['Open'], high=high, low=low, close=close, name='Candlestick'))\n",
    "fig.add_trace(go.Scatter(x=data.index, y=data['EMA_20'], name='EMA 20'))\n",
    "fig.add_trace(go.Scatter(x=data.index, y=data['donchian_high'], name='Donchian High'))\n",
    "fig.add_trace(go.Scatter(x=data.index, y=data['donchian_low'], name='Donchian Low'))\n",
    "fig.update_layout(title=f\"{ticker_symbol} Candlestick & Channels\")\n",
    "fig.show()\n"
   ]
  },
  {
   "cell_type": "markdown",
   "id": "c0a6efd1",
   "metadata": {},
   "source": [
    "8. Optional: News Sentiment (LLM/NLP)"
   ]
  },
  {
   "cell_type": "code",
   "execution_count": null,
   "id": "d625a2db",
   "metadata": {},
   "outputs": [],
   "source": [
    "classifier = pipeline('sentiment-analysis')\n",
    "news = [\n",
    "    \"Apple launches new product.\",\n",
    "    \"Apple faces supply chain concerns.\",\n",
    "]\n",
    "sentiments = classifier(news)\n",
    "print(pd.DataFrame({\"Headline\": news, \"Sentiment\": [s['label'] for s in sentiments], \"Score\": [s['score'] for s in sentiments]}))\n"
   ]
  }
 ],
 "metadata": {
  "kernelspec": {
   "display_name": "Python 3",
   "language": "python",
   "name": "python3"
  },
  "language_info": {
   "codemirror_mode": {
    "name": "ipython",
    "version": 3
   },
   "file_extension": ".py",
   "mimetype": "text/x-python",
   "name": "python",
   "nbconvert_exporter": "python",
   "pygments_lexer": "ipython3",
   "version": "3.11.9"
  }
 },
 "nbformat": 4,
 "nbformat_minor": 5
}
